{
  "nbformat": 4,
  "nbformat_minor": 0,
  "metadata": {
    "colab": {
      "name": "Review_hotel_NLP.ipynb",
      "provenance": [],
      "collapsed_sections": []
    },
    "kernelspec": {
      "name": "python3",
      "display_name": "Python 3"
    },
    "language_info": {
      "name": "python"
    },
    "accelerator": "GPU"
  },
  "cells": [
    {
      "cell_type": "code",
      "source": [
        "!pip install Sastrawi"
      ],
      "metadata": {
        "colab": {
          "base_uri": "https://localhost:8080/"
        },
        "id": "W2MQIPrmpDp-",
        "outputId": "126147af-1a08-4675-9233-7daea6d040e5"
      },
      "execution_count": 7,
      "outputs": [
        {
          "output_type": "stream",
          "name": "stdout",
          "text": [
            "Requirement already satisfied: Sastrawi in /usr/local/lib/python3.7/dist-packages (1.0.1)\n"
          ]
        }
      ]
    },
    {
      "cell_type": "markdown",
      "source": [
        "## Importing Libraries"
      ],
      "metadata": {
        "id": "BcMckCl0eIIU"
      }
    },
    {
      "cell_type": "code",
      "execution_count": 8,
      "metadata": {
        "id": "irJn5RvNomfm"
      },
      "outputs": [],
      "source": [
        "#Basic Libraries\n",
        "import numpy as np\n",
        "import pandas as pd\n",
        "import matplotlib.pyplot as plt\n",
        "import seaborn as sns"
      ]
    },
    {
      "cell_type": "code",
      "source": [
        "import string\n",
        "import re\n",
        "import nltk\n",
        "from nltk.tokenize import word_tokenize\n",
        "from Sastrawi.Stemmer.StemmerFactory import StemmerFactory\n",
        "from Sastrawi.StopWordRemover.StopWordRemoverFactory import StopWordRemoverFactory\n",
        "from sklearn.model_selection import train_test_split\n",
        "from keras import Sequential\n",
        "from keras import layers\n",
        "from tensorflow.data import Dataset, AUTOTUNE"
      ],
      "metadata": {
        "id": "ykHD98t9ooaz"
      },
      "execution_count": 9,
      "outputs": []
    },
    {
      "cell_type": "code",
      "source": [
        "#Download the necessary nltk package\n",
        "nltk.download('punkt')"
      ],
      "metadata": {
        "colab": {
          "base_uri": "https://localhost:8080/"
        },
        "id": "TkuZwG2iGjwW",
        "outputId": "e5698974-3652-497e-9940-a800ab1d9830"
      },
      "execution_count": 10,
      "outputs": [
        {
          "output_type": "stream",
          "name": "stdout",
          "text": [
            "[nltk_data] Downloading package punkt to /root/nltk_data...\n",
            "[nltk_data]   Package punkt is already up-to-date!\n"
          ]
        },
        {
          "output_type": "execute_result",
          "data": {
            "text/plain": [
              "True"
            ]
          },
          "metadata": {},
          "execution_count": 10
        }
      ]
    },
    {
      "cell_type": "markdown",
      "source": [
        "## Read The Data"
      ],
      "metadata": {
        "id": "yqyp0J0teaP9"
      }
    },
    {
      "cell_type": "code",
      "source": [
        "df = pd.read_csv('review_hotel.csv')\n",
        "df.head()"
      ],
      "metadata": {
        "colab": {
          "base_uri": "https://localhost:8080/",
          "height": 206
        },
        "id": "3rEZ-eJvoods",
        "outputId": "47b87e54-b536-41b7-e4b3-b0fb981093d0"
      },
      "execution_count": 11,
      "outputs": [
        {
          "output_type": "execute_result",
          "data": {
            "text/plain": [
              "                          review_id  \\\n",
              "0  0fc651bfdd38a3b4ba19ef9d0d1e92e3   \n",
              "1  7d8cb2e465c5602e51c1ba8710e8ff16   \n",
              "2  1f4447c73e5e1aac462d05b0ecbd5a55   \n",
              "3  b9aefbfb0debbfff43f8b268c82b43c0   \n",
              "4  e2afef18bd695fae43d4d53b8c547bd4   \n",
              "\n",
              "                                         review_text  category  \n",
              "0  Penginapannya rapi, bersih, suasana tenang, pe...         1  \n",
              "1  wifi tidak sampai kamar, tidak tersedia heater...         0  \n",
              "2  Lantai kamar mandi kotor, bau, dan seperti sdh...         0  \n",
              "3  Wc jorok.. Kasur tidak dibersihkan,, handuk ti...         0  \n",
              "4                                         bocor lagi         0  "
            ],
            "text/html": [
              "\n",
              "  <div id=\"df-ae774265-3c12-4ff6-b677-46afd7005fc0\">\n",
              "    <div class=\"colab-df-container\">\n",
              "      <div>\n",
              "<style scoped>\n",
              "    .dataframe tbody tr th:only-of-type {\n",
              "        vertical-align: middle;\n",
              "    }\n",
              "\n",
              "    .dataframe tbody tr th {\n",
              "        vertical-align: top;\n",
              "    }\n",
              "\n",
              "    .dataframe thead th {\n",
              "        text-align: right;\n",
              "    }\n",
              "</style>\n",
              "<table border=\"1\" class=\"dataframe\">\n",
              "  <thead>\n",
              "    <tr style=\"text-align: right;\">\n",
              "      <th></th>\n",
              "      <th>review_id</th>\n",
              "      <th>review_text</th>\n",
              "      <th>category</th>\n",
              "    </tr>\n",
              "  </thead>\n",
              "  <tbody>\n",
              "    <tr>\n",
              "      <th>0</th>\n",
              "      <td>0fc651bfdd38a3b4ba19ef9d0d1e92e3</td>\n",
              "      <td>Penginapannya rapi, bersih, suasana tenang, pe...</td>\n",
              "      <td>1</td>\n",
              "    </tr>\n",
              "    <tr>\n",
              "      <th>1</th>\n",
              "      <td>7d8cb2e465c5602e51c1ba8710e8ff16</td>\n",
              "      <td>wifi tidak sampai kamar, tidak tersedia heater...</td>\n",
              "      <td>0</td>\n",
              "    </tr>\n",
              "    <tr>\n",
              "      <th>2</th>\n",
              "      <td>1f4447c73e5e1aac462d05b0ecbd5a55</td>\n",
              "      <td>Lantai kamar mandi kotor, bau, dan seperti sdh...</td>\n",
              "      <td>0</td>\n",
              "    </tr>\n",
              "    <tr>\n",
              "      <th>3</th>\n",
              "      <td>b9aefbfb0debbfff43f8b268c82b43c0</td>\n",
              "      <td>Wc jorok.. Kasur tidak dibersihkan,, handuk ti...</td>\n",
              "      <td>0</td>\n",
              "    </tr>\n",
              "    <tr>\n",
              "      <th>4</th>\n",
              "      <td>e2afef18bd695fae43d4d53b8c547bd4</td>\n",
              "      <td>bocor lagi</td>\n",
              "      <td>0</td>\n",
              "    </tr>\n",
              "  </tbody>\n",
              "</table>\n",
              "</div>\n",
              "      <button class=\"colab-df-convert\" onclick=\"convertToInteractive('df-ae774265-3c12-4ff6-b677-46afd7005fc0')\"\n",
              "              title=\"Convert this dataframe to an interactive table.\"\n",
              "              style=\"display:none;\">\n",
              "        \n",
              "  <svg xmlns=\"http://www.w3.org/2000/svg\" height=\"24px\"viewBox=\"0 0 24 24\"\n",
              "       width=\"24px\">\n",
              "    <path d=\"M0 0h24v24H0V0z\" fill=\"none\"/>\n",
              "    <path d=\"M18.56 5.44l.94 2.06.94-2.06 2.06-.94-2.06-.94-.94-2.06-.94 2.06-2.06.94zm-11 1L8.5 8.5l.94-2.06 2.06-.94-2.06-.94L8.5 2.5l-.94 2.06-2.06.94zm10 10l.94 2.06.94-2.06 2.06-.94-2.06-.94-.94-2.06-.94 2.06-2.06.94z\"/><path d=\"M17.41 7.96l-1.37-1.37c-.4-.4-.92-.59-1.43-.59-.52 0-1.04.2-1.43.59L10.3 9.45l-7.72 7.72c-.78.78-.78 2.05 0 2.83L4 21.41c.39.39.9.59 1.41.59.51 0 1.02-.2 1.41-.59l7.78-7.78 2.81-2.81c.8-.78.8-2.07 0-2.86zM5.41 20L4 18.59l7.72-7.72 1.47 1.35L5.41 20z\"/>\n",
              "  </svg>\n",
              "      </button>\n",
              "      \n",
              "  <style>\n",
              "    .colab-df-container {\n",
              "      display:flex;\n",
              "      flex-wrap:wrap;\n",
              "      gap: 12px;\n",
              "    }\n",
              "\n",
              "    .colab-df-convert {\n",
              "      background-color: #E8F0FE;\n",
              "      border: none;\n",
              "      border-radius: 50%;\n",
              "      cursor: pointer;\n",
              "      display: none;\n",
              "      fill: #1967D2;\n",
              "      height: 32px;\n",
              "      padding: 0 0 0 0;\n",
              "      width: 32px;\n",
              "    }\n",
              "\n",
              "    .colab-df-convert:hover {\n",
              "      background-color: #E2EBFA;\n",
              "      box-shadow: 0px 1px 2px rgba(60, 64, 67, 0.3), 0px 1px 3px 1px rgba(60, 64, 67, 0.15);\n",
              "      fill: #174EA6;\n",
              "    }\n",
              "\n",
              "    [theme=dark] .colab-df-convert {\n",
              "      background-color: #3B4455;\n",
              "      fill: #D2E3FC;\n",
              "    }\n",
              "\n",
              "    [theme=dark] .colab-df-convert:hover {\n",
              "      background-color: #434B5C;\n",
              "      box-shadow: 0px 1px 3px 1px rgba(0, 0, 0, 0.15);\n",
              "      filter: drop-shadow(0px 1px 2px rgba(0, 0, 0, 0.3));\n",
              "      fill: #FFFFFF;\n",
              "    }\n",
              "  </style>\n",
              "\n",
              "      <script>\n",
              "        const buttonEl =\n",
              "          document.querySelector('#df-ae774265-3c12-4ff6-b677-46afd7005fc0 button.colab-df-convert');\n",
              "        buttonEl.style.display =\n",
              "          google.colab.kernel.accessAllowed ? 'block' : 'none';\n",
              "\n",
              "        async function convertToInteractive(key) {\n",
              "          const element = document.querySelector('#df-ae774265-3c12-4ff6-b677-46afd7005fc0');\n",
              "          const dataTable =\n",
              "            await google.colab.kernel.invokeFunction('convertToInteractive',\n",
              "                                                     [key], {});\n",
              "          if (!dataTable) return;\n",
              "\n",
              "          const docLinkHtml = 'Like what you see? Visit the ' +\n",
              "            '<a target=\"_blank\" href=https://colab.research.google.com/notebooks/data_table.ipynb>data table notebook</a>'\n",
              "            + ' to learn more about interactive tables.';\n",
              "          element.innerHTML = '';\n",
              "          dataTable['output_type'] = 'display_data';\n",
              "          await google.colab.output.renderOutput(dataTable, element);\n",
              "          const docLink = document.createElement('div');\n",
              "          docLink.innerHTML = docLinkHtml;\n",
              "          element.appendChild(docLink);\n",
              "        }\n",
              "      </script>\n",
              "    </div>\n",
              "  </div>\n",
              "  "
            ]
          },
          "metadata": {},
          "execution_count": 11
        }
      ]
    },
    {
      "cell_type": "code",
      "source": [
        "df.shape"
      ],
      "metadata": {
        "colab": {
          "base_uri": "https://localhost:8080/"
        },
        "id": "nSE3vqJtoogL",
        "outputId": "a8072b77-1e64-4882-a393-7b24dc0bd282"
      },
      "execution_count": 12,
      "outputs": [
        {
          "output_type": "execute_result",
          "data": {
            "text/plain": [
              "(14856, 3)"
            ]
          },
          "metadata": {},
          "execution_count": 12
        }
      ]
    },
    {
      "cell_type": "code",
      "source": [
        "df['review_text'].str.findall(\"(\\S+:\\S+)\").explode().value_counts()"
      ],
      "metadata": {
        "colab": {
          "base_uri": "https://localhost:8080/"
        },
        "id": "x5QuDNfEooi7",
        "outputId": "4e752676-6f52-4b1f-b936-bd187ad6bd0f"
      },
      "execution_count": 13,
      "outputs": [
        {
          "output_type": "execute_result",
          "data": {
            "text/plain": [
              "14:00                           4\n",
              "4:49                            3\n",
              "00:00                           3\n",
              "16:00                           2\n",
              "banget:(                        2\n",
              "D'paragon:)                     1\n",
              "pintu:)                         1\n",
              "aja:(                           1\n",
              "dicuci:(                        1\n",
              "instan:(                        1\n",
              "improve:di                      1\n",
              "14:00,                          1\n",
              "16:00.                          1\n",
              "itu?:(                          1\n",
              "tidur:))                        1\n",
              "13:00                           1\n",
              "18:30-20.00                     1\n",
              "Terimakasih:)                   1\n",
              "00:30                           1\n",
              "23:00                           1\n",
              "12:09)                          1\n",
              "17:15                           1\n",
              "22:00                           1\n",
              "22:00.                          1\n",
              "23:00an.                        1\n",
              "https://youtu.be/6t2Hqf0-HuU    1\n",
              "15:00                           1\n",
              "02:00                           1\n",
              "nya:(                           1\n",
              "datar..:(                       1\n",
              "nb:jika                         1\n",
              "bau:(                           1\n",
              "nyamuk:((                       1\n",
              "semua:((                        1\n",
              "Bad:check                       1\n",
              "pukul.12:15                     1\n",
              "14:30                           1\n",
              "07:00,                          1\n",
              "07:20                           1\n",
              "4:54                            1\n",
              "12:00                           1\n",
              "4:55                            1\n",
              "4:57                            1\n",
              "sekali:-                        1\n",
              "suami..:(                       1\n",
              "terpakai:(                      1\n",
              "pagi:(                          1\n",
              "berbeda:(                       1\n",
              "habis:((                        1\n",
              "11:03                           1\n",
              "08:00                           1\n",
              "Name: review_text, dtype: int64"
            ]
          },
          "metadata": {},
          "execution_count": 13
        }
      ]
    },
    {
      "cell_type": "markdown",
      "source": [
        "##Preprocessing"
      ],
      "metadata": {
        "id": "rq4QMCCHee74"
      }
    },
    {
      "cell_type": "code",
      "source": [
        "punctuations = re.sub(r\"[!<_>#:)\\.]\", \"\", string.punctuation)\n",
        "\n",
        "#Delete some string punctuation\n",
        "def punct2wspace(text):\n",
        "    return re.sub(r\"[{}]+\".format(punctuations), \" \", text)\n",
        "\n",
        "#Delete exsecive space\n",
        "def normalize_wspace(text):\n",
        "    return re.sub(r\"\\s+\", \" \", text)\n",
        "\n",
        "#Lowering text\n",
        "def casefolding(text):\n",
        "    return text.lower()\n",
        "\n",
        "def separate_punct(text):\n",
        "    return re.sub(r\"(\\w+)(!)\", r\"\\1 \\2\", text)\n",
        "\n",
        "#Stemming text\n",
        "stemfactory = StemmerFactory()\n",
        "stemmer = stemfactory.create_stemmer()\n",
        "\n",
        "#Removing Stopwords\n",
        "stopwordfactory = StopWordRemoverFactory()\n",
        "stopword = stopwordfactory.create_stop_word_remover()\n",
        "\n",
        "def preprocess(text):\n",
        "    text = punct2wspace(text)\n",
        "    text = normalize_wspace(text)\n",
        "    text = casefolding(text)\n",
        "    text = separate_punct(text)\n",
        "    text = stemmer.stem(text)\n",
        "    text = stopword.remove(text)\n",
        "    return text"
      ],
      "metadata": {
        "id": "-q3v5G_PpT-u"
      },
      "execution_count": 14,
      "outputs": []
    },
    {
      "cell_type": "code",
      "source": [
        "df[\"cleaned_text\"] = df[\"review_text\"].apply(preprocess)"
      ],
      "metadata": {
        "id": "Z2dsVSX3pUB9"
      },
      "execution_count": 15,
      "outputs": []
    },
    {
      "cell_type": "code",
      "source": [
        "df['tokenize_text'] = df['cleaned_text'].apply(word_tokenize)"
      ],
      "metadata": {
        "id": "uCSCgjnHI3Sj"
      },
      "execution_count": 16,
      "outputs": []
    },
    {
      "cell_type": "markdown",
      "source": [
        "## EDA"
      ],
      "metadata": {
        "id": "CIrLalOEnqNC"
      }
    },
    {
      "cell_type": "code",
      "source": [
        "df['cleaned_text'].loc[df['category']==1].str.findall(\"\\w+\").explode().value_counts()"
      ],
      "metadata": {
        "colab": {
          "base_uri": "https://localhost:8080/"
        },
        "id": "tE5DY6H8K16H",
        "outputId": "56356120-74dd-4430-8b52-e612161f8f01"
      },
      "execution_count": 18,
      "outputs": [
        {
          "output_type": "execute_result",
          "data": {
            "text/plain": [
              "bersih     777\n",
              "kamar      755\n",
              "nyaman     622\n",
              "hotel      376\n",
              "layan      366\n",
              "          ... \n",
              "color        1\n",
              "white        1\n",
              "sugest       1\n",
              "stuff        1\n",
              "balance      1\n",
              "Name: cleaned_text, Length: 3093, dtype: int64"
            ]
          },
          "metadata": {},
          "execution_count": 18
        }
      ]
    },
    {
      "cell_type": "code",
      "source": [
        "df['cleaned_text'].str.len().hist()"
      ],
      "metadata": {
        "colab": {
          "base_uri": "https://localhost:8080/",
          "height": 283
        },
        "id": "sJvBai7-fJ6v",
        "outputId": "2af72150-a805-47b5-fa9f-ce4f914ad0c3"
      },
      "execution_count": 30,
      "outputs": [
        {
          "output_type": "execute_result",
          "data": {
            "text/plain": [
              "<matplotlib.axes._subplots.AxesSubplot at 0x7ff658af97d0>"
            ]
          },
          "metadata": {},
          "execution_count": 30
        },
        {
          "output_type": "display_data",
          "data": {
            "text/plain": [
              "<Figure size 432x288 with 1 Axes>"
            ],
            "image/png": "[encoded data removed]"
          },
          "metadata": {
            "needs_background": "light"
          }
        }
      ]
    },
    {
      "cell_type": "code",
      "source": [
        "df['cleaned_text'].loc[df['category']==0].str.findall(\"\\w+\").explode().value_counts()"
      ],
      "metadata": {
        "colab": {
          "base_uri": "https://localhost:8080/"
        },
        "id": "zU9KySTuOUPN",
        "outputId": "cf715a86-7452-481d-a1fc-45d3c5a73425"
      },
      "execution_count": 19,
      "outputs": [
        {
          "output_type": "execute_result",
          "data": {
            "text/plain": [
              "kamar       8975\n",
              "kurang      3418\n",
              "mandi       2793\n",
              "air         2748\n",
              "nya         2666\n",
              "            ... \n",
              "diakalin       1\n",
              "pegas          1\n",
              "rembesen       1\n",
              "arahin         1\n",
              "social         1\n",
              "Name: cleaned_text, Length: 9962, dtype: int64"
            ]
          },
          "metadata": {},
          "execution_count": 19
        }
      ]
    },
    {
      "cell_type": "code",
      "source": [
        "sns.countplot(df['category'])"
      ],
      "metadata": {
        "colab": {
          "base_uri": "https://localhost:8080/",
          "height": 353
        },
        "id": "XnIIBrWwO5q1",
        "outputId": "d08fb3b1-deb2-4950-bd03-cbcb87dd405f"
      },
      "execution_count": 20,
      "outputs": [
        {
          "output_type": "stream",
          "name": "stderr",
          "text": [
            "/usr/local/lib/python3.7/dist-packages/seaborn/_decorators.py:43: FutureWarning: Pass the following variable as a keyword arg: x. From version 0.12, the only valid positional argument will be `data`, and passing other arguments without an explicit keyword will result in an error or misinterpretation.\n",
            "  FutureWarning\n"
          ]
        },
        {
          "output_type": "execute_result",
          "data": {
            "text/plain": [
              "<matplotlib.axes._subplots.AxesSubplot at 0x7ff658488490>"
            ]
          },
          "metadata": {},
          "execution_count": 20
        },
        {
          "output_type": "display_data",
          "data": {
            "text/plain": [
              "<Figure size 432x288 with 1 Axes>"
            ],
            "image/png": "[encoded data removed]"
          },
          "metadata": {
            "needs_background": "light"
          }
        }
      ]
    },
    {
      "cell_type": "markdown",
      "source": [
        "## Modeling Preparation"
      ],
      "metadata": {
        "id": "NgcFnQXanxUq"
      }
    },
    {
      "cell_type": "code",
      "source": [
        "xtrain, xtest, ytrain, ytest = train_test_split(df[\"cleaned_text\"],df['category'], test_size=0.2, random_state=5)"
      ],
      "metadata": {
        "id": "8UBNE7WGqwIi"
      },
      "execution_count": 21,
      "outputs": []
    },
    {
      "cell_type": "code",
      "source": [
        "train_dataset = Dataset.from_tensor_slices((xtrain, ytrain))\n",
        "test_dataset = Dataset.from_tensor_slices((xtest, ytest))\n",
        "\n",
        "train_dataset = train_dataset.batch(32).prefetch(AUTOTUNE)\n",
        "test_dataset = test_dataset.batch(32).prefetch(AUTOTUNE)"
      ],
      "metadata": {
        "id": "rqf5lZXIqwNj"
      },
      "execution_count": 22,
      "outputs": []
    },
    {
      "cell_type": "code",
      "source": [
        "encoder=layers.TextVectorization(max_tokens=20000)\n",
        "encoder.adapt(train_dataset.map(lambda feat, tar: feat))"
      ],
      "metadata": {
        "id": "4_39sI_9qwQt"
      },
      "execution_count": 23,
      "outputs": []
    },
    {
      "cell_type": "markdown",
      "source": [
        "## Modeling"
      ],
      "metadata": {
        "id": "lCG4kJ0ln2L_"
      }
    },
    {
      "cell_type": "code",
      "source": [
        "model=Sequential()\n",
        "\n",
        "model.add(encoder)\n",
        "model.add(layers.Embedding(\n",
        "    input_dim=len(encoder.get_vocabulary()), \n",
        "    output_dim=16, \n",
        "    mask_zero=True))\n",
        "\n",
        "model.add(layers.LSTM(16, return_sequences=True))\n",
        "model.add(layers.LSTM(16))\n",
        "\n",
        "model.add(layers.Dropout(0.3))\n",
        "model.add(layers.Dense(8))\n",
        "\n",
        "model.add(layers.Dense(1, activation=\"sigmoid\"))"
      ],
      "metadata": {
        "id": "VgdoIlPxool_"
      },
      "execution_count": 24,
      "outputs": []
    },
    {
      "cell_type": "code",
      "source": [
        "model.compile(loss=\"binary_crossentropy\", \n",
        "              optimizer=\"rmsprop\",\n",
        "              metrics=[\"acc\"])"
      ],
      "metadata": {
        "id": "wm-hhB1Coopk"
      },
      "execution_count": 25,
      "outputs": []
    },
    {
      "cell_type": "code",
      "source": [
        "from tensorflow.keras.callbacks import EarlyStopping\n",
        "callback = EarlyStopping(monitor='val_loss', patience=2)"
      ],
      "metadata": {
        "id": "8nw3fRDr568a"
      },
      "execution_count": 26,
      "outputs": []
    },
    {
      "cell_type": "code",
      "source": [
        "history = model.fit(train_dataset,\n",
        "                    epochs=15,\n",
        "                    validation_data=test_dataset,\n",
        "                    callbacks=[callback])"
      ],
      "metadata": {
        "colab": {
          "base_uri": "https://localhost:8080/"
        },
        "id": "k7hmeT0jqQgT",
        "outputId": "03b6292d-00d8-4460-a3ca-5c89e0151ed6"
      },
      "execution_count": 27,
      "outputs": [
        {
          "output_type": "stream",
          "name": "stdout",
          "text": [
            "Epoch 1/15\n",
            "372/372 [==============================] - 47s 77ms/step - loss: 0.2879 - acc: 0.9101 - val_loss: 0.2042 - val_acc: 0.9398\n",
            "Epoch 2/15\n",
            "372/372 [==============================] - 20s 54ms/step - loss: 0.1785 - acc: 0.9449 - val_loss: 0.1867 - val_acc: 0.9441\n",
            "Epoch 3/15\n",
            "372/372 [==============================] - 20s 53ms/step - loss: 0.1566 - acc: 0.9504 - val_loss: 0.1762 - val_acc: 0.9462\n",
            "Epoch 4/15\n",
            "372/372 [==============================] - 20s 54ms/step - loss: 0.1477 - acc: 0.9528 - val_loss: 0.1739 - val_acc: 0.9478\n",
            "Epoch 5/15\n",
            "372/372 [==============================] - 21s 57ms/step - loss: 0.1394 - acc: 0.9552 - val_loss: 0.1739 - val_acc: 0.9468\n",
            "Epoch 6/15\n",
            "372/372 [==============================] - 20s 54ms/step - loss: 0.1359 - acc: 0.9560 - val_loss: 0.1745 - val_acc: 0.9482\n",
            "Epoch 7/15\n",
            "372/372 [==============================] - 20s 54ms/step - loss: 0.1331 - acc: 0.9567 - val_loss: 0.1758 - val_acc: 0.9465\n"
          ]
        }
      ]
    },
    {
      "cell_type": "markdown",
      "source": [
        "## Model Evaluation"
      ],
      "metadata": {
        "id": "BaLLKwiloCqZ"
      }
    },
    {
      "cell_type": "code",
      "source": [
        "score=pd.DataFrame(history.history)\n",
        "score"
      ],
      "metadata": {
        "colab": {
          "base_uri": "https://localhost:8080/",
          "height": 269
        },
        "id": "Vvp9n_K11mEM",
        "outputId": "447912e3-5629-44be-99f6-93f36b976612"
      },
      "execution_count": 28,
      "outputs": [
        {
          "output_type": "execute_result",
          "data": {
            "text/plain": [
              "       loss       acc  val_loss   val_acc\n",
              "0  0.287915  0.910131  0.204160  0.939771\n",
              "1  0.178523  0.944884  0.186744  0.944145\n",
              "2  0.156583  0.950353  0.176234  0.946164\n",
              "3  0.147716  0.952794  0.173894  0.947847\n",
              "4  0.139385  0.955234  0.173873  0.946837\n",
              "5  0.135886  0.955991  0.174491  0.948183\n",
              "6  0.133074  0.956664  0.175764  0.946501"
            ],
            "text/html": [
              "\n",
              "  <div id=\"df-c3c465fa-b8d6-40b4-a0f3-c5cccae6849e\">\n",
              "    <div class=\"colab-df-container\">\n",
              "      <div>\n",
              "<style scoped>\n",
              "    .dataframe tbody tr th:only-of-type {\n",
              "        vertical-align: middle;\n",
              "    }\n",
              "\n",
              "    .dataframe tbody tr th {\n",
              "        vertical-align: top;\n",
              "    }\n",
              "\n",
              "    .dataframe thead th {\n",
              "        text-align: right;\n",
              "    }\n",
              "</style>\n",
              "<table border=\"1\" class=\"dataframe\">\n",
              "  <thead>\n",
              "    <tr style=\"text-align: right;\">\n",
              "      <th></th>\n",
              "      <th>loss</th>\n",
              "      <th>acc</th>\n",
              "      <th>val_loss</th>\n",
              "      <th>val_acc</th>\n",
              "    </tr>\n",
              "  </thead>\n",
              "  <tbody>\n",
              "    <tr>\n",
              "      <th>0</th>\n",
              "      <td>0.287915</td>\n",
              "      <td>0.910131</td>\n",
              "      <td>0.204160</td>\n",
              "      <td>0.939771</td>\n",
              "    </tr>\n",
              "    <tr>\n",
              "      <th>1</th>\n",
              "      <td>0.178523</td>\n",
              "      <td>0.944884</td>\n",
              "      <td>0.186744</td>\n",
              "      <td>0.944145</td>\n",
              "    </tr>\n",
              "    <tr>\n",
              "      <th>2</th>\n",
              "      <td>0.156583</td>\n",
              "      <td>0.950353</td>\n",
              "      <td>0.176234</td>\n",
              "      <td>0.946164</td>\n",
              "    </tr>\n",
              "    <tr>\n",
              "      <th>3</th>\n",
              "      <td>0.147716</td>\n",
              "      <td>0.952794</td>\n",
              "      <td>0.173894</td>\n",
              "      <td>0.947847</td>\n",
              "    </tr>\n",
              "    <tr>\n",
              "      <th>4</th>\n",
              "      <td>0.139385</td>\n",
              "      <td>0.955234</td>\n",
              "      <td>0.173873</td>\n",
              "      <td>0.946837</td>\n",
              "    </tr>\n",
              "    <tr>\n",
              "      <th>5</th>\n",
              "      <td>0.135886</td>\n",
              "      <td>0.955991</td>\n",
              "      <td>0.174491</td>\n",
              "      <td>0.948183</td>\n",
              "    </tr>\n",
              "    <tr>\n",
              "      <th>6</th>\n",
              "      <td>0.133074</td>\n",
              "      <td>0.956664</td>\n",
              "      <td>0.175764</td>\n",
              "      <td>0.946501</td>\n",
              "    </tr>\n",
              "  </tbody>\n",
              "</table>\n",
              "</div>\n",
              "      <button class=\"colab-df-convert\" onclick=\"convertToInteractive('df-c3c465fa-b8d6-40b4-a0f3-c5cccae6849e')\"\n",
              "              title=\"Convert this dataframe to an interactive table.\"\n",
              "              style=\"display:none;\">\n",
              "        \n",
              "  <svg xmlns=\"http://www.w3.org/2000/svg\" height=\"24px\"viewBox=\"0 0 24 24\"\n",
              "       width=\"24px\">\n",
              "    <path d=\"M0 0h24v24H0V0z\" fill=\"none\"/>\n",
              "    <path d=\"M18.56 5.44l.94 2.06.94-2.06 2.06-.94-2.06-.94-.94-2.06-.94 2.06-2.06.94zm-11 1L8.5 8.5l.94-2.06 2.06-.94-2.06-.94L8.5 2.5l-.94 2.06-2.06.94zm10 10l.94 2.06.94-2.06 2.06-.94-2.06-.94-.94-2.06-.94 2.06-2.06.94z\"/><path d=\"M17.41 7.96l-1.37-1.37c-.4-.4-.92-.59-1.43-.59-.52 0-1.04.2-1.43.59L10.3 9.45l-7.72 7.72c-.78.78-.78 2.05 0 2.83L4 21.41c.39.39.9.59 1.41.59.51 0 1.02-.2 1.41-.59l7.78-7.78 2.81-2.81c.8-.78.8-2.07 0-2.86zM5.41 20L4 18.59l7.72-7.72 1.47 1.35L5.41 20z\"/>\n",
              "  </svg>\n",
              "      </button>\n",
              "      \n",
              "  <style>\n",
              "    .colab-df-container {\n",
              "      display:flex;\n",
              "      flex-wrap:wrap;\n",
              "      gap: 12px;\n",
              "    }\n",
              "\n",
              "    .colab-df-convert {\n",
              "      background-color: #E8F0FE;\n",
              "      border: none;\n",
              "      border-radius: 50%;\n",
              "      cursor: pointer;\n",
              "      display: none;\n",
              "      fill: #1967D2;\n",
              "      height: 32px;\n",
              "      padding: 0 0 0 0;\n",
              "      width: 32px;\n",
              "    }\n",
              "\n",
              "    .colab-df-convert:hover {\n",
              "      background-color: #E2EBFA;\n",
              "      box-shadow: 0px 1px 2px rgba(60, 64, 67, 0.3), 0px 1px 3px 1px rgba(60, 64, 67, 0.15);\n",
              "      fill: #174EA6;\n",
              "    }\n",
              "\n",
              "    [theme=dark] .colab-df-convert {\n",
              "      background-color: #3B4455;\n",
              "      fill: #D2E3FC;\n",
              "    }\n",
              "\n",
              "    [theme=dark] .colab-df-convert:hover {\n",
              "      background-color: #434B5C;\n",
              "      box-shadow: 0px 1px 3px 1px rgba(0, 0, 0, 0.15);\n",
              "      filter: drop-shadow(0px 1px 2px rgba(0, 0, 0, 0.3));\n",
              "      fill: #FFFFFF;\n",
              "    }\n",
              "  </style>\n",
              "\n",
              "      <script>\n",
              "        const buttonEl =\n",
              "          document.querySelector('#df-c3c465fa-b8d6-40b4-a0f3-c5cccae6849e button.colab-df-convert');\n",
              "        buttonEl.style.display =\n",
              "          google.colab.kernel.accessAllowed ? 'block' : 'none';\n",
              "\n",
              "        async function convertToInteractive(key) {\n",
              "          const element = document.querySelector('#df-c3c465fa-b8d6-40b4-a0f3-c5cccae6849e');\n",
              "          const dataTable =\n",
              "            await google.colab.kernel.invokeFunction('convertToInteractive',\n",
              "                                                     [key], {});\n",
              "          if (!dataTable) return;\n",
              "\n",
              "          const docLinkHtml = 'Like what you see? Visit the ' +\n",
              "            '<a target=\"_blank\" href=https://colab.research.google.com/notebooks/data_table.ipynb>data table notebook</a>'\n",
              "            + ' to learn more about interactive tables.';\n",
              "          element.innerHTML = '';\n",
              "          dataTable['output_type'] = 'display_data';\n",
              "          await google.colab.output.renderOutput(dataTable, element);\n",
              "          const docLink = document.createElement('div');\n",
              "          docLink.innerHTML = docLinkHtml;\n",
              "          element.appendChild(docLink);\n",
              "        }\n",
              "      </script>\n",
              "    </div>\n",
              "  </div>\n",
              "  "
            ]
          },
          "metadata": {},
          "execution_count": 28
        }
      ]
    },
    {
      "cell_type": "code",
      "source": [
        "sns.lineplot(data=score[['acc','val_acc']])"
      ],
      "metadata": {
        "colab": {
          "base_uri": "https://localhost:8080/",
          "height": 283
        },
        "id": "LPZPLsuiqQji",
        "outputId": "34fe8d4d-5625-4130-a51f-049649f75725"
      },
      "execution_count": 29,
      "outputs": [
        {
          "output_type": "execute_result",
          "data": {
            "text/plain": [
              "<matplotlib.axes._subplots.AxesSubplot at 0x7ff658ac40d0>"
            ]
          },
          "metadata": {},
          "execution_count": 29
        },
        {
          "output_type": "display_data",
          "data": {
            "text/plain": [
              "<Figure size 432x288 with 1 Axes>"
            ],
            "image/png": "[encoded data removed]"
          },
          "metadata": {
            "needs_background": "light"
          }
        }
      ]
    }
  ]
}